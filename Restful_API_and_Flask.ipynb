{
  "nbformat": 4,
  "nbformat_minor": 0,
  "metadata": {
    "colab": {
      "provenance": []
    },
    "kernelspec": {
      "name": "python3",
      "display_name": "Python 3"
    },
    "language_info": {
      "name": "python"
    }
  },
  "cells": [
    {
      "cell_type": "code",
      "execution_count": null,
      "metadata": {
        "id": "2dggyu4HlKbn"
      },
      "outputs": [],
      "source": []
    },
    {
      "cell_type": "markdown",
      "source": [
        "#Restful API and Flask"
      ],
      "metadata": {
        "id": "3i3QRZ69lWpU"
      }
    },
    {
      "cell_type": "markdown",
      "source": [
        "#Assignment Questions"
      ],
      "metadata": {
        "id": "k97Lt864lYQ_"
      }
    },
    {
      "cell_type": "markdown",
      "source": [
        "1.  What is a RESTful API"
      ],
      "metadata": {
        "id": "lwnVwZGYlYU1"
      }
    },
    {
      "cell_type": "markdown",
      "source": [
        "-> A RESTful API, also known as a REST API, is an application programming interface (API) that adheres to the architectural style and principles of Representational State Transfer (REST). REST is an architectural style for distributed hypermedia systems, created by computer scientist Roy Fielding."
      ],
      "metadata": {
        "id": "DDUtgs45lYX6"
      }
    },
    {
      "cell_type": "markdown",
      "source": [
        "2.  Explain the concept of API specification"
      ],
      "metadata": {
        "id": "7tH0oZsWlYbG"
      }
    },
    {
      "cell_type": "markdown",
      "source": [
        "-> An API specification is a formal, machine-readable document that serves as a blueprint for an Application Programming Interface (API). It details the API's structure, behavior, and the rules for interacting with it. Rather than being a set of instructions for end-users, an API specification is primarily intended for developers who are building or integrating with the API."
      ],
      "metadata": {
        "id": "JC4XLSfWlYeN"
      }
    },
    {
      "cell_type": "markdown",
      "source": [
        "3.  What is Flask, and why is it popular for building API"
      ],
      "metadata": {
        "id": "ah_P5Zn2mvxx"
      }
    },
    {
      "cell_type": "markdown",
      "source": [
        "-> Flask is a micro web framework written in Python. It is designed to be lightweight and flexible, providing the essential tools for building web applications and leaving many choices about features like database integration or ORMs (Object Relational Mappers) to the developer."
      ],
      "metadata": {
        "id": "eNcgC6FkmwHN"
      }
    },
    {
      "cell_type": "markdown",
      "source": [
        "4.  What is routing in Flask"
      ],
      "metadata": {
        "id": "bpUHQGummwVw"
      }
    },
    {
      "cell_type": "markdown",
      "source": [
        "-> Routing in Flask is the process of mapping URLs (Uniform Resource Locators) to specific Python functions, known as view functions, within a Flask web application. When a user requests a particular URL in their web browser, Flask's routing mechanism determines which view function should be executed to handle that request and generate a response."
      ],
      "metadata": {
        "id": "dygchwrEmwjQ"
      }
    },
    {
      "cell_type": "markdown",
      "source": [
        "5.  How do you create a simple Flask application"
      ],
      "metadata": {
        "id": "tEVn2gVLmwoB"
      }
    },
    {
      "cell_type": "markdown",
      "source": [
        "-> First we imported the Flask class. An instance of this class will be our WSGI application.\n",
        "Next we create an instance of this class. ...\n",
        "We then use the route() decorator to tell Flask what URL should trigger our function.\n",
        "The function returns the message we want to display in the user's browser."
      ],
      "metadata": {
        "id": "H1C-TyAQmwro"
      }
    },
    {
      "cell_type": "markdown",
      "source": [
        "6.  What are HTTP methods used in RESTful APIs"
      ],
      "metadata": {
        "id": "zdR4SbyQmwvU"
      }
    },
    {
      "cell_type": "markdown",
      "source": [
        "-> HTTP methods, also known as HTTP verbs, define the type of action a client wants to perform on a resource within a RESTful API. These methods directly map to the standard CRUD (Create, Read, Update, Delete) operations. The most commonly used HTTP methods in REST APIs are:"
      ],
      "metadata": {
        "id": "372VubVxmwy6"
      }
    },
    {
      "cell_type": "markdown",
      "source": [
        "7.  What is the purpose of the @app.route() decorator in Flask"
      ],
      "metadata": {
        "id": "luk1jRlYmw2N"
      }
    },
    {
      "cell_type": "markdown",
      "source": [
        "-> The app.route() decorator in Flask serves the purpose of defining URL routing for a web application. It maps a specific URL path to a Python function that will be executed when a client requests that URL."
      ],
      "metadata": {
        "id": "u1OdnNVZmw6t"
      }
    },
    {
      "cell_type": "markdown",
      "source": [
        "8.  What is the difference between GET and POST HTTP methods"
      ],
      "metadata": {
        "id": "2SN6vjzZmw_t"
      }
    },
    {
      "cell_type": "markdown",
      "source": [
        "-> The GET and POST methods are two of the most common HTTP methods used for communication between a client (e.g., a web browser) and a server. They differ in their purpose, how they transmit data, and their characteristics:"
      ],
      "metadata": {
        "id": "9sjJECkmmxDU"
      }
    },
    {
      "cell_type": "markdown",
      "source": [
        "9.  How do you handle errors in Flask APIs"
      ],
      "metadata": {
        "id": "BU40D-I0mxG1"
      }
    },
    {
      "cell_type": "markdown",
      "source": [
        "-> Error handling in a Flask API primarily involves catching exceptions and returning appropriate HTTP responses to the client. This ensures a robust and user-friendly experience, providing clear feedback when issues arise."
      ],
      "metadata": {
        "id": "D62YGlQZmxKR"
      }
    },
    {
      "cell_type": "markdown",
      "source": [
        "10.  How do you connect Flask to a SQL database"
      ],
      "metadata": {
        "id": "MzYtz55BmxNo"
      }
    },
    {
      "cell_type": "markdown",
      "source": [
        "-> Connecting Flask to a SQL database typically involves using an Object-Relational Mapper (ORM) like Flask-SQLAlchemy or a direct database connector like mysql-connector-python or PyMySQL. Flask-SQLAlchemy is commonly preferred due to its integration with Flask and its ability to work with various SQL databases (SQLite, MySQL, PostgreSQL, etc.)."
      ],
      "metadata": {
        "id": "ZnMaAHcOqrJo"
      }
    },
    {
      "cell_type": "markdown",
      "source": [
        "11. What is the role of Flask-SQLAlchemy"
      ],
      "metadata": {
        "id": "dXD7ypkBqrPD"
      }
    },
    {
      "cell_type": "markdown",
      "source": [
        "-> Flask-SQLAlchemy is a Flask extension that makes using SQLAlchemy with Flask easier, providing you tools and methods to interact with your database in your Flask applications through SQLAlchemy. In this tutorial, you'll build a small student management system that demonstrates how to use the Flask-SQLAlchemy extension."
      ],
      "metadata": {
        "id": "08mZlFwGqrTa"
      }
    },
    {
      "cell_type": "markdown",
      "source": [
        "12. What are Flask blueprints, and how are they useful"
      ],
      "metadata": {
        "id": "pZxN6E1JqrYm"
      }
    },
    {
      "cell_type": "markdown",
      "source": [
        "-> Flask Blueprints are a mechanism in the Flask web framework for organizing and structuring applications into modular, reusable components. Instead of defining all routes, templates, and static files directly within a single Flask application instance, blueprints allow you to encapsulate related functionalities into independent units."
      ],
      "metadata": {
        "id": "3FV7t6kuqrdp"
      }
    },
    {
      "cell_type": "markdown",
      "source": [
        "13. What is the purpose of Flask's request object"
      ],
      "metadata": {
        "id": "enNta2r9qrhj"
      }
    },
    {
      "cell_type": "markdown",
      "source": [
        "-> The purpose of Flask's request object is to provide a comprehensive interface for accessing information related to the incoming HTTP request made by a client to the Flask server. This object is automatically created and made available within the request context for each incoming request."
      ],
      "metadata": {
        "id": "1Pe-CvNwqrll"
      }
    },
    {
      "cell_type": "markdown",
      "source": [
        "14.  How do you create a RESTful API endpoint using Flask"
      ],
      "metadata": {
        "id": "OV6LJ3yPqrqO"
      }
    },
    {
      "cell_type": "markdown",
      "source": [
        "-> Creating a RESTful API endpoint in Flask involves defining a route that responds to HTTP methods (like GET, POST) and returns data—typically in JSON format.\\n\",\n",
        "        \"-   Steps to Create a RESTful API Endpoint in Flask:-\\n\",\n",
        "        \"-   Import Flask and JSON utilitiez\\n\",\n",
        "        \"-   Initialize your Flask app\\n\",\n",
        "        \"-   Define the API endpoint with appropriate HTTP methods\\n\",\n",
        "        \"-   Run the Flask app\""
      ],
      "metadata": {
        "id": "E9sH2UZjqruk"
      }
    },
    {
      "cell_type": "markdown",
      "source": [
        "15.  What is the purpose of Flask's jsonify() function"
      ],
      "metadata": {
        "id": "dXzmpOBAqryw"
      }
    },
    {
      "cell_type": "markdown",
      "source": [
        "->  The purpose of Flask's jsonify() function is to convert Python data structures (like dictionaries or lists) into a JSON-formatted HTTP response that can be sent back to the client.\""
      ],
      "metadata": {
        "id": "rTG0vKxQqr3L"
      }
    },
    {
      "cell_type": "markdown",
      "source": [
        "16.  Explain Flask’s url_for() function"
      ],
      "metadata": {
        "id": "rn1QdT9Hqr6_"
      }
    },
    {
      "cell_type": "markdown",
      "source": [
        "-> The url_for() function in Flask is a utility used to dynamically build URLs for various resources within a Flask application. Its primary purpose is to avoid hardcoding URLs, which makes the application more maintainable and adaptable to changes in URL structures."
      ],
      "metadata": {
        "id": "sYmuePtoqr-1"
      }
    },
    {
      "cell_type": "markdown",
      "source": [
        "17.  How does Flask handle static files (CSS, JavaScript, etc.)"
      ],
      "metadata": {
        "id": "Az92Pc02qsDy"
      }
    },
    {
      "cell_type": "markdown",
      "source": [
        "->  By default, Flask expects static files to be in a folder named static at the root of your project.\\n\",\n",
        "        \"-   These files are accessible via URLs starting with /static/.\\n\",\n",
        "        \"-   For example, a file static/style.css is served at /static/style.css.\""
      ],
      "metadata": {
        "id": "KiJCRPGXqsJ4"
      }
    },
    {
      "cell_type": "markdown",
      "source": [
        "18.  What is an API specification, and how does it help in building a Flask API"
      ],
      "metadata": {
        "id": "K9lLW3zRuO0W"
      }
    },
    {
      "cell_type": "markdown",
      "source": [
        "-> It describes the contract between the API provider and consumers.\\n\",\n",
        "        \"-   Common formats include OpenAPI (Swagger), RAML, and API Blueprint.\\n\",\n",
        "        \"-   Includes details like:\\n\",\n",
        "        \"-   Available endpoints (URLs)\\n\",\n",
        "        \"-   Supported HTTP methods (GET, POST, etc.)\\n\",\n",
        "        \"-   Request parameters and body structure\\n\",\n",
        "        \"-   Response formats and status codes\\n\",\n",
        "        \"-   Authentication and security requirements\\n\",\n",
        "        \"-   Error messages and codes\\n\",\n",
        "        \"\\n\",\n",
        "        \"-   How Does an API Specification Help When Building a Flask API?\\n\",\n",
        "        \"-   Clear Design Blueprint\\n\",\n",
        "        \"-   Improves Communication\\n\",\n",
        "        \"-   Speeds Up Development\\n\",\n",
        "        \"-   Facilitates Testing and Validation\\n\",\n",
        "        \"-   Enhances Documentation\\n\""
      ],
      "metadata": {
        "id": "Is02inEruO4o"
      }
    },
    {
      "cell_type": "markdown",
      "source": [
        "19. What are HTTP status codes, and why are they important in a Flask API"
      ],
      "metadata": {
        "id": "Ez_11kAYuO_y"
      }
    },
    {
      "cell_type": "markdown",
      "source": [
        "-> HTTP status codes are three-digit numbers returned by a server in response to an HTTP request, indicating the outcome of the requested operation. They are a fundamental part of the HTTP protocol, enabling communication between clients (like web browsers or API consumers) and servers. These codes provide immediate feedback on whether a request was successful, if further action is needed, or if an error occurred."
      ],
      "metadata": {
        "id": "UHEPWiBZuPEF"
      }
    },
    {
      "cell_type": "markdown",
      "source": [
        "20. How do you handle POST requests in Flask"
      ],
      "metadata": {
        "id": "wc0QLpVIuPIf"
      }
    },
    {
      "cell_type": "markdown",
      "source": [
        "-> Step-by-step: Handling POST Requests in Flask:-\\n\",\n",
        "        \"-   Import necessary modules\\n\",\n",
        "        \"-   Create your Flask app\\n\",\n",
        "        \"-   Define a route that accepts POST requests\\n\",\n",
        "        \"-   Run your app\""
      ],
      "metadata": {
        "id": "x650SBLEuPNX"
      }
    },
    {
      "cell_type": "markdown",
      "source": [
        "21. How would you secure a Flask API"
      ],
      "metadata": {
        "id": "pMEYaoKMuP12"
      }
    },
    {
      "cell_type": "markdown",
      "source": [
        "-> Use HTTPS\\n\",\n",
        "        \"-    Authentication\\n\",\n",
        "        \"-    Authorization\\n\",\n",
        "        \"-    Input Validation & Sanitization\\n\",\n",
        "        \"-    Rate Limiting\\n\",\n",
        "        \"-    Error Handling\\n\",\n",
        "        \"-    CORS (Cross-Origin Resource Sharing)\\n\",\n",
        "        \"-    Keep Dependencies Updated\\n\",\n",
        "        \"-    Use Secure Headers"
      ],
      "metadata": {
        "id": "iB-8fqNHuP6Y"
      }
    },
    {
      "cell_type": "markdown",
      "source": [
        "22. What is the significance of the Flask-RESTful extension"
      ],
      "metadata": {
        "id": "QwzR6bNFv0Cl"
      }
    },
    {
      "cell_type": "markdown",
      "source": [
        "-> Flask-RESTful simplifies building REST APIs with Flask by providing an object-oriented approach with a Resource class that maps HTTP methods (GET, POST, PUT, DELETE) to class methods, handling automatic request parsing, response formatting (especially for JSON), input validation, error handling, and rate limiting. Its significance lies in streamlining API development, enforcing REST principles, and providing a more structured and maintainable way to create robust, scalable, and feature-rich APIs compared to using Flask alone."
      ],
      "metadata": {
        "id": "jt9cyLM-v0PI"
      }
    },
    {
      "cell_type": "markdown",
      "source": [
        "23. What is the role of Flask’s session object?"
      ],
      "metadata": {
        "id": "8zIrAdoIv0T7"
      }
    },
    {
      "cell_type": "markdown",
      "source": [
        "-> \"-   Role of Flask’s session Object\\n\",\n",
        "        \"-   Stores data on a per-user basis between requests (like cookies, but more secure).\\n\",\n",
        "        \"-   Keeps user state without requiring server-side storage (data is stored client-side but signed to prevent tampering).\\n\",\n",
        "        \"-   Useful for things like:\\n\",\n",
        "        \"-   User authentication sessions (e.g., remembering logged-in users).\\n\",\n",
        "        \"-   Flash messages.\\n\",\n",
        "        \"-   Storing user preferences temporarily.\""
      ],
      "metadata": {
        "id": "jknGarsgv1DT"
      }
    },
    {
      "cell_type": "markdown",
      "source": [
        "#Practical Questions"
      ],
      "metadata": {
        "id": "WGiTYYRxv1RJ"
      }
    },
    {
      "cell_type": "markdown",
      "source": [
        "1. How do you create a basic Flask application"
      ],
      "metadata": {
        "id": "FvRTV-qJwrOt"
      }
    },
    {
      "cell_type": "code",
      "source": [
        "    from flask import Flask\n",
        "\n",
        "    app = Flask(__name__)\n",
        "\n",
        "    @app.route('/')\n",
        "    def hello_world():\n",
        "        return 'Hello, Flask World!'\n",
        "\n",
        "    if __name__ == '__main__':\n",
        "        app.run(debug=True)"
      ],
      "metadata": {
        "id": "slgcCM79wxHP"
      },
      "execution_count": null,
      "outputs": []
    },
    {
      "cell_type": "markdown",
      "source": [
        "2. How do you serve static files like images or CSS in Flask"
      ],
      "metadata": {
        "id": "2EyZxs2KwxcU"
      }
    },
    {
      "cell_type": "code",
      "source": [
        "from flask import Flask, url_for\n",
        "\n",
        "app = Flask(__name__)\n",
        "\n",
        "@app.route('/')\n",
        "def home():\n",
        "   return '''\n",
        "<html>\n",
        "<head>\n",
        "    <link rel=\"stylesheet\" href=\"{}\">\n",
        "</head>\n",
        "<body>\n",
        "    <h1>Hello, styled Flask!</h1>\n",
        "</body>\n",
        "</html>\n",
        "   '''.format(url_for('static', filename='style.css'))\n",
        "\n",
        "if __name__ == '__main__':\n",
        " app.run()"
      ],
      "metadata": {
        "colab": {
          "base_uri": "https://localhost:8080/"
        },
        "id": "51aTyxZowxsM",
        "outputId": "6735530d-b526-4ac9-9329-cf155cded3de"
      },
      "execution_count": 2,
      "outputs": [
        {
          "output_type": "stream",
          "name": "stdout",
          "text": [
            " * Serving Flask app '__main__'\n",
            " * Debug mode: off\n"
          ]
        },
        {
          "output_type": "stream",
          "name": "stderr",
          "text": [
            "INFO:werkzeug:\u001b[31m\u001b[1mWARNING: This is a development server. Do not use it in a production deployment. Use a production WSGI server instead.\u001b[0m\n",
            " * Running on http://127.0.0.1:5000\n",
            "INFO:werkzeug:\u001b[33mPress CTRL+C to quit\u001b[0m\n"
          ]
        }
      ]
    },
    {
      "cell_type": "markdown",
      "source": [
        "3.  How do you define different routes with different HTTP methods in Flask"
      ],
      "metadata": {
        "id": "ODrVodhrwx9T"
      }
    },
    {
      "cell_type": "code",
      "source": [
        "from flask import Flask, request\n",
        "\n",
        "app = Flask(__name__)\n",
        "\n",
        "@app.route('/login', methods=['GET', 'POST'])\n",
        "def login():\n",
        "    if request.method == 'POST':\n",
        "        return \"Processing login via POST\"\n",
        "    else:\n",
        "        return \"Displaying login form via GET\"\n",
        "\n",
        "if __name__ == '__main__':\n",
        "    app.run(debug=True)"
      ],
      "metadata": {
        "id": "W3QKW5aNwyNx"
      },
      "execution_count": null,
      "outputs": []
    },
    {
      "cell_type": "markdown",
      "source": [
        "4.  How do you render HTML templates in Flask"
      ],
      "metadata": {
        "id": "y836MlHXwydU"
      }
    },
    {
      "cell_type": "code",
      "source": [
        "from flask import Flask, render_template\n",
        "\n",
        "app = Flask(__name__)\n",
        "\n",
        "@app.route('/')\n",
        "def home():\n",
        "    title = \"My Flask App\"\n",
        "    return render_template('index.html', title=title)\n",
        "\n",
        "if __name__ == '__main__':\n",
        "    app.run(debug=True)"
      ],
      "metadata": {
        "colab": {
          "base_uri": "https://localhost:8080/"
        },
        "id": "c94Txi08wysj",
        "outputId": "161f254e-cfff-4c1b-e369-05ffc25f1fde"
      },
      "execution_count": 4,
      "outputs": [
        {
          "output_type": "stream",
          "name": "stdout",
          "text": [
            " * Serving Flask app '__main__'\n",
            " * Debug mode: on\n"
          ]
        },
        {
          "output_type": "stream",
          "name": "stderr",
          "text": [
            "INFO:werkzeug:\u001b[31m\u001b[1mWARNING: This is a development server. Do not use it in a production deployment. Use a production WSGI server instead.\u001b[0m\n",
            " * Running on http://127.0.0.1:5000\n",
            "INFO:werkzeug:\u001b[33mPress CTRL+C to quit\u001b[0m\n",
            "INFO:werkzeug: * Restarting with watchdog (inotify)\n"
          ]
        }
      ]
    },
    {
      "cell_type": "markdown",
      "source": [
        "5.  How can you generate URLs for routes in Flask using url_for"
      ],
      "metadata": {
        "id": "wG8NSSZ7wy7m"
      }
    },
    {
      "cell_type": "code",
      "source": [
        "from flask import Flask, render_template, url_for\n",
        "\n",
        "app = Flask(__name__)\n",
        "\n",
        "\n",
        "# Default route added using a decorator, for view function 'welcome'\n",
        "# Landing page of our web application - sportsmain.html\n",
        "@app.route('/')\n",
        "def welcome():\n",
        "    return render_template('sportsmain.html')\n",
        "\n",
        "\n",
        "# Start with flask web app, with debug as True,\n",
        "# only if this is the starting page\n",
        "if(__name__ == \"__main__\"):\n",
        "    app.run(debug=True)"
      ],
      "metadata": {
        "id": "49DXFD05wzL7"
      },
      "execution_count": null,
      "outputs": []
    },
    {
      "cell_type": "markdown",
      "source": [
        "6.  How do you handle forms in Flask"
      ],
      "metadata": {
        "id": "ic0Sjhozwzbs"
      }
    },
    {
      "cell_type": "code",
      "source": [
        "from flask import Flask, render_template, request, redirect, url_for\n",
        "\n",
        "app = Flask(__name__)\n",
        "\n",
        "@app.route('/')\n",
        "def index():\n",
        "    return render_template('form.html')\n",
        "\n",
        "@app.route('/submit_form', methods=['GET', 'POST'])\n",
        "def submit_form():\n",
        "    if request.method == 'POST':\n",
        "        username = request.form['username']\n",
        "        password = request.form['password']\n",
        "        # Process the data (e.g., save to database, validate)\n",
        "        print(f\"Username: {username}, Password: {password}\")\n",
        "        return redirect(url_for('success_page', user=username))\n",
        "    return redirect(url_for('index')) # Redirect if accessed via GET\n",
        "\n",
        "@app.route('/success/<user>')\n",
        "def success_page(user):\n",
        "    return f\"Form submitted successfully by {user}!\"\n",
        "\n",
        "if __name__ == '__main__':\n",
        "    app.run(debug=True)"
      ],
      "metadata": {
        "id": "ZGB7zm9GwzqF"
      },
      "execution_count": null,
      "outputs": []
    },
    {
      "cell_type": "markdown",
      "source": [
        "7. How can you validate form data in Flask"
      ],
      "metadata": {
        "id": "fioV8VMEwz46"
      }
    },
    {
      "cell_type": "code",
      "source": [
        "from flask import Flask, render_template, request, redirect, url_for\n",
        "\n",
        "app = Flask(__name__)\n",
        "\n",
        "@app.route('/signup', methods=['GET', 'POST'])\n",
        "def signup():\n",
        "    if request.method == 'POST':\n",
        "        username = request.form['username']\n",
        "        password = request.form['password']\n",
        "        # Perform validation and processing here\n",
        "        if username and password:\n",
        "            # Save to database, etc.\n",
        "            return redirect(url_for('success'))\n",
        "        else:\n",
        "            error = \"Please fill in all fields.\"\n",
        "            return render_template('signup.html', error=error, username=username)\n",
        "    return render_template('signup.html')\n",
        "\n",
        "@app.route('/success')\n",
        "def success():\n",
        "    return \"Signup Successful!\"\n",
        "\n",
        "if __name__ == '__main__':\n",
        "    app.run(debug=True)"
      ],
      "metadata": {
        "id": "u6MUwKI7w0IG"
      },
      "execution_count": null,
      "outputs": []
    },
    {
      "cell_type": "markdown",
      "source": [
        "8. How do you manage sessions in Flask"
      ],
      "metadata": {
        "id": "OUe4h9bDw0W9"
      }
    },
    {
      "cell_type": "code",
      "source": [
        "from flask import Flask, session\n",
        "from datetime import timedelta\n",
        "\n",
        "app = Flask(__name__)\n",
        "app.secret_key = 'your_super_secret_key' # Replace with a strong, random key\n",
        "\n",
        "@app.route('/login')\n",
        "def login():\n",
        "    session['username'] = 'john_doe'\n",
        "    session['logged_in'] = True\n",
        "    return 'Logged in!'\n",
        "\n",
        "@app.route('/profile')\n",
        "def profile():\n",
        "    if 'logged_in' in session:\n",
        "        username = session.get('username')\n",
        "        return f'Welcome, {username}!'\n",
        "    else:\n",
        "        return 'Please log in.'\n",
        "\n",
        "app.permanent_session_lifetime = timedelta(days=7) # Session lasts for 7 days\n",
        "\n",
        "@app.route('/logout')\n",
        "def logout():\n",
        "    session.clear()\n",
        "    return 'Logged out!'\n",
        "\n",
        "if __name__ == '__main__':\n",
        "    app.run(debug=True)"
      ],
      "metadata": {
        "colab": {
          "base_uri": "https://localhost:8080/"
        },
        "id": "ZxPd2yA3WxuI",
        "outputId": "de32fdce-f6b5-4f7b-b3cf-225b3353cabc"
      },
      "execution_count": 6,
      "outputs": [
        {
          "output_type": "stream",
          "name": "stdout",
          "text": [
            " * Serving Flask app '__main__'\n",
            " * Debug mode: on\n"
          ]
        },
        {
          "output_type": "stream",
          "name": "stderr",
          "text": [
            "INFO:werkzeug:\u001b[31m\u001b[1mWARNING: This is a development server. Do not use it in a production deployment. Use a production WSGI server instead.\u001b[0m\n",
            " * Running on http://127.0.0.1:5000\n",
            "INFO:werkzeug:\u001b[33mPress CTRL+C to quit\u001b[0m\n",
            "INFO:werkzeug: * Restarting with watchdog (inotify)\n"
          ]
        }
      ]
    },
    {
      "cell_type": "markdown",
      "source": [
        "9. How do you redirect to a different route in Flask"
      ],
      "metadata": {
        "id": "fnE0mV0WXOwe"
      }
    },
    {
      "cell_type": "code",
      "source": [
        "    from flask import Flask, redirect, url_for\n",
        "        app = Flask(__name__)\n",
        "\n",
        "    @app.route('/')\n",
        "    def home():\n",
        "        return 'Welcome to the Home Page!'\n",
        "\n",
        "    @app.route('/target_route')\n",
        "    def target_route():\n",
        "        return 'You have been redirected to the target route!'\n",
        "            @app.route('/initiate_redirect')\n",
        "    def initiate_redirect():\n",
        "        # Redirects to the 'target_route' function\n",
        "        return redirect(url_for('target_route'))\n",
        "            if __name__ == '__main__':\n",
        "        app.run(debug=True)"
      ],
      "metadata": {
        "id": "d5kVO1Q-XPAb"
      },
      "execution_count": null,
      "outputs": []
    },
    {
      "cell_type": "markdown",
      "source": [
        "10.  How do you handle errors in Flask (e.g., 404)"
      ],
      "metadata": {
        "id": "y_IYaAaFXPQO"
      }
    },
    {
      "cell_type": "code",
      "source": [
        "from flask import Flask, render_template, request, redirect, url_for\n",
        "\n",
        "        app = Flask(__name__)\n",
        "\n",
        "        @app.route('/')\n",
        "        def home():\n",
        "            return 'Welcome to the homepage!'\n",
        "\n",
        "        # Handle 404 errors (Page Not Found)\n",
        "        @app.errorhandler(404)\n",
        "        def page_not_found(e):\n",
        "            return render_template('404.html'), 404\n",
        "\n",
        "        if __name__ == '__main__':\n",
        "           app.run(debug=True)\n",
        "        <!DOCTYPE html>\n",
        "        <html>\n",
        "        <head><title>Page Not Found</title></head>\n",
        "        <body>\n",
        "           <h1>404 - Page Not Found</h1>\n",
        "           <p>Oops! The page you're looking for doesn't exist.</p>\n",
        "            <a href=\\\"{{ url_for('home') }}\\\">Go to Home</a>\n",
        "        </body>\n",
        "        </html>"
      ],
      "metadata": {
        "id": "msLZQ1J4XPdf"
      },
      "execution_count": null,
      "outputs": []
    },
    {
      "cell_type": "markdown",
      "source": [
        "11.  How do you structure a Flask app using Blueprints"
      ],
      "metadata": {
        "id": "vTxb1TBMZZO_"
      }
    },
    {
      "cell_type": "code",
      "source": [
        "from flask import Blueprint\n",
        "\n",
        "# Create a blueprint instance\n",
        "user_bp = Blueprint('user', __name__)\n",
        "\n",
        "@user_bp.route('/users')\n",
        "def get_users():\n",
        "    return {\"message\": \"List of users\"}\n",
        "    from flask import Flask\n",
        "from app.routes.user_routes import user_bp  # Import blueprint\n",
        "\n",
        "def create_app():\n",
        "    app = Flask(__name__)\n",
        "\n",
        "    # Register blueprint\n",
        "    app.register_blueprint(user_bp, url_prefix='/api')\n",
        "\n",
        "    return app\n",
        "    from app import create_app\n",
        "\n",
        "app = create_app()\n",
        "\n",
        "if __name__ == '__main__':\n",
        "    app.run(debug=True)"
      ],
      "metadata": {
        "id": "VPJsACxpZZgS"
      },
      "execution_count": null,
      "outputs": []
    },
    {
      "cell_type": "markdown",
      "source": [
        "12.  How do you define a custom Jinja filter in Flask"
      ],
      "metadata": {
        "id": "DItC5v7pZZuN"
      }
    },
    {
      "cell_type": "code",
      "source": [
        "def reverse_string(s):\n",
        "           return s[::-1]\n",
        "        from flask import Flask\n",
        "\n",
        "        app = Flask(__name__)\n",
        "\n",
        "        @app.template_filter('reverse')\n",
        "        def reverse_string(s):\n",
        "           return s[::-1]\n",
        "        app.jinja_env.filters['reverse'] = reverse_string"
      ],
      "metadata": {
        "id": "80TdmUHZZZ7z"
      },
      "execution_count": null,
      "outputs": []
    },
    {
      "cell_type": "markdown",
      "source": [
        "13.  How can you redirect with query parameters in Flask"
      ],
      "metadata": {
        "id": "grG5FGKsZaIJ"
      }
    },
    {
      "cell_type": "code",
      "source": [
        "    from flask import Flask, redirect, url_for\n",
        "        @app.route('/target_page')\n",
        "    def target_page():\n",
        "        param1 = request.args.get('param1')\n",
        "        param2 = request.args.get('param2')\n",
        "        return f\"Welcome to the target page! Param1: {param1}, Param2: {param2}\"\n",
        "            @app.route('/redirect_example')\n",
        "    def redirect_example():\n",
        "        # Define the query parameters\n",
        "        query_params = {'param1': 'value_a', 'param2': 'value_b'}\n",
        "\n",
        "        # Use url_for to build the URL with query parameters\n",
        "        # The arguments passed to url_for after the endpoint name become query parameters\n",
        "        redirect_url = url_for('target_page', **query_params)\n",
        "\n",
        "        # Redirect to the generated URL\n",
        "        return redirect(redirect_url)\n",
        "            return redirect(url_for('target_page', param1='value_a', param2='value_b'))"
      ],
      "metadata": {
        "id": "BVtK5fkqZaV0"
      },
      "execution_count": null,
      "outputs": []
    },
    {
      "cell_type": "markdown",
      "source": [
        "14. How do you return JSON responses in Flask"
      ],
      "metadata": {
        "id": "7BwVb9_kZajr"
      }
    },
    {
      "cell_type": "code",
      "source": [
        "from flask import Flask, jsonify\n",
        "\n",
        "app = Flask(__name__)\n",
        "\n",
        "@app.route('/api/data')\n",
        "def get_data():\n",
        "    return jsonify({\n",
        "        'message': 'Hello from Flask!',\n",
        "        'data': [1, 2, 3, 4, 5],\n",
        "        'name': 'Alice',\n",
        "        'age': 30,\n",
        "        'status': 'active'\n",
        "    })\n",
        "\n",
        "if __name__ == '__main__':\n",
        "   app.run(debug=True)"
      ],
      "metadata": {
        "colab": {
          "base_uri": "https://localhost:8080/"
        },
        "id": "4DnmbHskZayW",
        "outputId": "5de9da97-3cf8-4e9f-ecd7-ecb756009af5"
      },
      "execution_count": 4,
      "outputs": [
        {
          "output_type": "stream",
          "name": "stdout",
          "text": [
            " * Serving Flask app '__main__'\n",
            " * Debug mode: on\n"
          ]
        },
        {
          "output_type": "stream",
          "name": "stderr",
          "text": [
            "INFO:werkzeug:\u001b[31m\u001b[1mWARNING: This is a development server. Do not use it in a production deployment. Use a production WSGI server instead.\u001b[0m\n",
            " * Running on http://127.0.0.1:5000\n",
            "INFO:werkzeug:\u001b[33mPress CTRL+C to quit\u001b[0m\n",
            "INFO:werkzeug: * Restarting with watchdog (inotify)\n"
          ]
        }
      ]
    },
    {
      "cell_type": "markdown",
      "source": [
        "15.  How do you capture URL parameters in Flask?"
      ],
      "metadata": {
        "id": "cgxOpge4ccFm"
      }
    },
    {
      "cell_type": "code",
      "source": [
        "from flask import Flask\n",
        "\n",
        "app = Flask(__name__)\n",
        "\n",
        "@app.route('/user/<username>')\n",
        "def show_user_profile(username):\n",
        "    return f\"User: {username}\"\n",
        "\n",
        "@app.route('/post/<int:post_id>')\n",
        "def show_post(post_id):\n",
        "    return f\"Post ID: {post_id}\"\n",
        "\n",
        "if __name__ == '__main__':\n",
        "    app.run(debug=True)"
      ],
      "metadata": {
        "id": "2F4Oq2MeccV6"
      },
      "execution_count": null,
      "outputs": []
    }
  ]
}